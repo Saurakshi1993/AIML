{
 "cells": [
  {
   "cell_type": "markdown",
   "metadata": {},
   "source": [
    "Implement a function longestWord() that takes a list of words and returns the longest one"
   ]
  },
  {
   "cell_type": "code",
   "execution_count": 14,
   "metadata": {},
   "outputs": [
    {
     "name": "stdout",
     "output_type": "stream",
     "text": [
      "Engagement Day that day yours on\n"
     ]
    }
   ],
   "source": [
    "def longestWord(wordsList):\n",
    "    longestWord:str=\"\"\n",
    "    for i in range(1,len(wordsList)):\n",
    "        if(len(wordsList[i-1])>len(wordsList[i])):\n",
    "            if(len(longestWord)<len(wordsList[i-1])):\n",
    "                 longestWord=wordsList[i-1]\n",
    "                \n",
    "          \n",
    "        else:\n",
    "            if(len(longestWord)<len(wordsList[i])):\n",
    "                 longestWord=wordsList[i]\n",
    "       \n",
    "    \n",
    "    print(longestWord)\n",
    "\n",
    "longestWord([\"The Test On Day on the test\",\"Engagement Day that day yours on\",\"Day that celebrate on \"])\n",
    "        \n",
    "    "
   ]
  },
  {
   "cell_type": "code",
   "execution_count": null,
   "metadata": {},
   "outputs": [],
   "source": []
  },
  {
   "cell_type": "code",
   "execution_count": null,
   "metadata": {},
   "outputs": [],
   "source": []
  }
 ],
 "metadata": {
  "kernelspec": {
   "display_name": "Python 3",
   "language": "python",
   "name": "python3"
  },
  "language_info": {
   "codemirror_mode": {
    "name": "ipython",
    "version": 3
   },
   "file_extension": ".py",
   "mimetype": "text/x-python",
   "name": "python",
   "nbconvert_exporter": "python",
   "pygments_lexer": "ipython3",
   "version": "3.7.4"
  }
 },
 "nbformat": 4,
 "nbformat_minor": 2
}
