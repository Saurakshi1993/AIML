{
 "cells": [
  {
   "cell_type": "markdown",
   "metadata": {},
   "source": [
    "A test is conducted which is consisting of 20 MCQs (multiple choices questions) with every\n",
    "MCQ having its four options out of which only one is correct. Determine the probability that\n",
    "a person undertaking that test has answered exactly 5 questions wrong."
   ]
  },
  {
   "cell_type": "markdown",
   "metadata": {},
   "source": [
    "Probability distribution for binomial experiment. \n",
    "p(x) = n! / (x! * (n−x)!) * p^x * (1−p)^(n−x) "
   ]
  },
  {
   "cell_type": "code",
   "execution_count": 13,
   "metadata": {},
   "outputs": [
    {
     "name": "stdout",
     "output_type": "stream",
     "text": [
      "3.4264958230778575e-06\n"
     ]
    }
   ],
   "source": [
    "import math\n",
    "import operator as op\n",
    "from functools import reduce\n",
    "\n",
    "def ncr(n, r):\n",
    "    r = min(r, n-r)\n",
    "    numer = reduce(op.mul, range(n, n-r, -1), 1)\n",
    "    denom = reduce(op.mul, range(1, r+1), 1)\n",
    "    return numer / denom\n",
    "\n",
    "def ProbabilityFunction():\n",
    "    totalQues=20\n",
    "    unCorrectQues=5\n",
    "    correctQues=totalQues-unCorrectQues\n",
    "    \n",
    "    #Probability of Correct answer \n",
    "    PC=1/4\n",
    "    \n",
    "    #Probabiluty of Uncorrect answer\n",
    "    PUC=3/4\n",
    "    \n",
    "    #Combination \n",
    "    Comb=ncr(20,5)\n",
    "    \n",
    "    # probability that a person undertaking that test has answered exactly 5 questions wrong.    \n",
    "    PROB=Comb*(PC**correctQues)*(PUC**unCorrectQues)\n",
    "    \n",
    "    print(PROB)\n",
    "    \n",
    "\n",
    "ProbabilityFunction()       \n",
    "    \n",
    "    \n",
    "    \n",
    "    \n",
    "    "
   ]
  },
  {
   "cell_type": "markdown",
   "metadata": {},
   "source": [
    "A die marked A to E is rolled 50 times. Find the probability of getting a “D” exactly\n",
    "5 times."
   ]
  },
  {
   "cell_type": "code",
   "execution_count": 14,
   "metadata": {},
   "outputs": [
    {
     "name": "stdout",
     "output_type": "stream",
     "text": [
      "0.029531204310524296\n"
     ]
    }
   ],
   "source": [
    "import math\n",
    "import operator as op\n",
    "from functools import reduce\n",
    "\n",
    "def ncr(n, r):\n",
    "    r = min(r, n-r)\n",
    "    numer = reduce(op.mul, range(n, n-r, -1), 1)\n",
    "    denom = reduce(op.mul, range(1, r+1), 1)\n",
    "    return numer / denom\n",
    "\n",
    "def ProbabilityDieRolled():\n",
    "    totalRolled=50\n",
    "    D=5\n",
    "    NotD=totalRolled-D\n",
    "    \n",
    "    #Probability of Getting D \n",
    "    PD=1/5\n",
    "    \n",
    "    #Probabiluty of not Getting D\n",
    "    PND=4/5\n",
    "    \n",
    "    #Combination \n",
    "    Comb=ncr(50,5)\n",
    "    \n",
    "    # probability that a person undertaking that test has answered exactly 5 questions wrong.    \n",
    "    PROB=Comb*(PD**D)*(PND**NotD)\n",
    "    \n",
    "    print(PROB)\n",
    "    \n",
    "\n",
    "ProbabilityDieRolled()       \n",
    "    "
   ]
  },
  {
   "cell_type": "markdown",
   "metadata": {},
   "source": [
    "Two balls are drawn at random in succession without replacement from an urn\n",
    "containing 4 red balls and 6 black balls.\n",
    "Find the probabilities of all the possible outcomes."
   ]
  },
  {
   "cell_type": "code",
   "execution_count": 17,
   "metadata": {},
   "outputs": [
    {
     "name": "stdout",
     "output_type": "stream",
     "text": [
      "0.13333333333333333\n",
      "0.26666666666666666\n",
      "0.26666666666666666\n",
      "0.3333333333333333\n"
     ]
    }
   ],
   "source": [
    "def ProbabilityOutcome():\n",
    "    #Total Red balls\n",
    "    TR=4\n",
    "    \n",
    "    #Total Black balls\n",
    "    TB=6\n",
    "    \n",
    "    #Probability of Red balls\n",
    "    PR=TR/(TR+TB)\n",
    "    \n",
    "    #Probability of White balls\n",
    "    PW=TB/(TR+TB)\n",
    "    \n",
    "    \n",
    "    #Probability if both the balls are red\n",
    "    PRR=(4/10)*(3/9)\n",
    "    \n",
    "    #Probability if one ball is red and second ball is blue\n",
    "    PRB=(4/10)*(6/9)\n",
    "    \n",
    "    #Probability if one ball is red and second ball is blue\n",
    "    PBR=(6/10)*(4/9)\n",
    "    \n",
    "    #Probability if both the balls are blue\n",
    "    PBB=(6/10)*(5/9)\n",
    "    \n",
    "    print(PRR)\n",
    "    print(PRB)\n",
    "    print(PBR)\n",
    "    print(PBB)\n",
    "    \n",
    "    \n",
    "ProbabilityOutcome()\n",
    "    \n",
    "    \n",
    "    \n",
    "    \n"
   ]
  },
  {
   "cell_type": "code",
   "execution_count": null,
   "metadata": {},
   "outputs": [],
   "source": []
  }
 ],
 "metadata": {
  "kernelspec": {
   "display_name": "Python 3",
   "language": "python",
   "name": "python3"
  },
  "language_info": {
   "codemirror_mode": {
    "name": "ipython",
    "version": 3
   },
   "file_extension": ".py",
   "mimetype": "text/x-python",
   "name": "python",
   "nbconvert_exporter": "python",
   "pygments_lexer": "ipython3",
   "version": "3.7.4"
  }
 },
 "nbformat": 4,
 "nbformat_minor": 2
}
