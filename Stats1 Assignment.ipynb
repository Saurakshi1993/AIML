{
 "cells": [
  {
   "cell_type": "markdown",
   "metadata": {},
   "source": [
    "You survey households in your area to find the average rent they are paying. Find the\n",
    "standard deviation from the following data:\n",
    "$1550, $1700, $900, $850, $1000, $950."
   ]
  },
  {
   "cell_type": "code",
   "execution_count": 2,
   "metadata": {},
   "outputs": [
    {
     "name": "stdout",
     "output_type": "stream",
     "text": [
      "Standard Deviation :  367.99003609699366\n"
     ]
    }
   ],
   "source": [
    "import math\n",
    "import sys\n",
    "\n",
    "def sd_calc(data):\n",
    "    n = len(data)\n",
    "\n",
    "    if n <= 1:\n",
    "        return 0.0\n",
    "\n",
    "    mean, sd = avg_calc(data), 0.0\n",
    "\n",
    "    # calculate stan. dev.\n",
    "    for el in data:\n",
    "        sd += (float(el) - mean)**2\n",
    "    sd = math.sqrt(sd / float(n-1))\n",
    "\n",
    "    return sd\n",
    "def avg_calc(ls):\n",
    "    n, mean = len(ls), 0.0\n",
    "\n",
    "    if n <= 1:\n",
    "        return ls[0]\n",
    "\n",
    "    # calculate average\n",
    "    for el in ls:\n",
    "        mean = mean + float(el)\n",
    "    mean = mean / float(n)\n",
    "\n",
    "    return mean\n",
    "\n",
    "\n",
    "data = [1550, 1700, 900, 850, 1000,950]\n",
    "\n",
    "print(\"Standard Deviation : \",sd_calc(data))"
   ]
  },
  {
   "cell_type": "markdown",
   "metadata": {},
   "source": [
    "Find the variance for the following set of data representing trees in California (heights in\n",
    "feet):3, 21, 98, 203, 17, 9"
   ]
  },
  {
   "cell_type": "code",
   "execution_count": 43,
   "metadata": {},
   "outputs": [
    {
     "name": "stdout",
     "output_type": "stream",
     "text": [
      "Variance: 2.9166666666666665\n"
     ]
    }
   ],
   "source": [
    "def mean(first_data_values):\n",
    "\n",
    "    return sum(first_data_values) / len(first_data_values)\n",
    "\n",
    "def variance(values):\n",
    "\n",
    "    meanval = mean(values)   \n",
    "    return sum((i-meanval) ** 2 for i in values)/len(values)\n",
    "\n",
    "data=[1,2,3,4,5,6]\n",
    "\n",
    "print(\"Variance:\",variance(data))"
   ]
  },
  {
   "cell_type": "markdown",
   "metadata": {},
   "source": [
    "In a class on 100 students, 80 students passed in all subjects, 10 failed in one subject, 7\n",
    "failed in two subjects and 3 failed in three subjects. Find the probability distribution of\n",
    "the variable for number of subjects a student from the given class has failed in."
   ]
  },
  {
   "cell_type": "code",
   "execution_count": 44,
   "metadata": {},
   "outputs": [
    {
     "name": "stdout",
     "output_type": "stream",
     "text": [
      "0.33\n"
     ]
    }
   ],
   "source": [
    "def probabilityDistr():\n",
    "    totalStudents=100\n",
    "    passedInAll=80\n",
    "    failedinOne=10\n",
    "    failedinTwo=7\n",
    "    failedinThree=3\n",
    "    \n",
    "    #Probability of failing in zero subject\n",
    "    P0=80/100\n",
    "    \n",
    "    #Probability of failing in one subject\n",
    "    P1=10/100\n",
    "    \n",
    "    #Probability of failing in two subject\n",
    "    P2=7/100\n",
    "    \n",
    "    #Probability of failing in two subject\n",
    "    P3=3/100\n",
    "    \n",
    "    \n",
    "    #Probability distribution of the failed student is\n",
    "    \n",
    "    PD=P0*0+P1*1+P2*2+P3*3\n",
    "    \n",
    "    \n",
    "    print(PD)\n",
    "    \n",
    "probabilityDistr()    \n",
    "    \n",
    "    "
   ]
  },
  {
   "cell_type": "code",
   "execution_count": null,
   "metadata": {},
   "outputs": [],
   "source": []
  }
 ],
 "metadata": {
  "kernelspec": {
   "display_name": "Python 3",
   "language": "python",
   "name": "python3"
  },
  "language_info": {
   "codemirror_mode": {
    "name": "ipython",
    "version": 3
   },
   "file_extension": ".py",
   "mimetype": "text/x-python",
   "name": "python",
   "nbconvert_exporter": "python",
   "pygments_lexer": "ipython3",
   "version": "3.7.4"
  }
 },
 "nbformat": 4,
 "nbformat_minor": 2
}
